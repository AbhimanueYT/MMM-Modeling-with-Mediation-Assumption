{
  "cells": [
    {
      "cell_type": "markdown",
      "metadata": {},
      "source": [
        "# MMM Data Preparation Pipeline\n",
        "\n",
        "This notebook demonstrates the comprehensive data preparation pipeline for MMM modeling, including:\n",
        "- Handling weekly seasonality and trends\n",
        "- Zero-spend period treatment\n",
        "- Feature scaling and transformations\n",
        "- Adstock and saturation transformations\n",
        "- Interaction feature creation\n"
      ]
    },
    {
      "cell_type": "code",
      "execution_count": null,
      "metadata": {},
      "outputs": [],
      "source": [
        "# Import necessary libraries\n",
        "import sys\n",
        "import os\n",
        "sys.path.append('../src')\n",
        "\n",
        "import numpy as np\n",
        "import pandas as pd\n",
        "import matplotlib.pyplot as plt\n",
        "import seaborn as sns\n",
        "from sklearn.preprocessing import StandardScaler, RobustScaler\n",
        "\n",
        "# Import our custom modules\n",
        "from data_preparation import DataPreparator\n",
        "from utils import set_random_seed, adstock_transform, saturation_transform\n",
        "\n",
        "# Set random seed for reproducibility\n",
        "set_random_seed(42)\n",
        "\n",
        "# Set plotting style\n",
        "plt.style.use('seaborn-v0_8')\n",
        "sns.set_palette(\"husl\")\n",
        "plt.rcParams['figure.figsize'] = (12, 8)\n"
      ]
    },
    {
      "cell_type": "code",
      "execution_count": null,
      "metadata": {},
      "outputs": [],
      "source": [
        "# Load the processed data from exploration notebook\n",
        "data = pd.read_csv('../data/raw/mmm_data.csv')\n",
        "data['date'] = pd.to_datetime(data['date'])\n",
        "\n",
        "print(f\"Loaded data shape: {data.shape}\")\n",
        "print(f\"Date range: {data['date'].min()} to {data['date'].max()}\")\n",
        "print(f\"Columns: {list(data.columns)}\")\n",
        "data.head()\n"
      ]
    },
    {
      "cell_type": "markdown",
      "metadata": {},
      "source": [
        "## 1. Data Preparation Pipeline\n",
        "\n",
        "Let's apply the comprehensive data preparation pipeline:\n"
      ]
    },
    {
      "cell_type": "code",
      "execution_count": null,
      "metadata": {},
      "outputs": [],
      "source": [
        "# Initialize data preparator\n",
        "prep = DataPreparator(random_seed=42)\n",
        "\n",
        "# Apply comprehensive data preparation\n",
        "prepared_data = prep.prepare_data(data, apply_transformations=True)\n",
        "\n",
        "print(f\"Prepared data shape: {prepared_data.shape}\")\n",
        "print(f\"New features created: {len(prepared_data.columns) - len(data.columns)}\")\n",
        "print(f\"Total features: {len(prepared_data.columns)}\")\n"
      ]
    },
    {
      "cell_type": "code",
      "execution_count": null,
      "metadata": {},
      "outputs": [],
      "source": [
        "# Display the new features created\n",
        "new_features = [col for col in prepared_data.columns if col not in data.columns]\n",
        "print(\"New features created:\")\n",
        "for i, feature in enumerate(new_features, 1):\n",
        "    print(f\"{i:2d}. {feature}\")\n",
        "\n",
        "print(f\"\\nFeature categories:\")\n",
        "print(f\"- Original features: {len(data.columns)}\")\n",
        "print(f\"- New features: {len(new_features)}\")\n",
        "print(f\"- Total features: {len(prepared_data.columns)}\")\n"
      ]
    }
  ],
  "metadata": {
    "language_info": {
      "name": "python"
    }
  },
  "nbformat": 4,
  "nbformat_minor": 2
}
