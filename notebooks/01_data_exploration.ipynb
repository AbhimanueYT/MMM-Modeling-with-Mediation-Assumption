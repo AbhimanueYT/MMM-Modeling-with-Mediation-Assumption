{
  "cells": [
    {
      "cell_type": "markdown",
      "metadata": {},
      "source": [
        "# MMM Data Exploration and Analysis\n",
        "\n",
        "This notebook demonstrates the exploration and analysis of real MMM data with mediation assumptions.\n"
      ]
    },
    {
      "cell_type": "code",
      "execution_count": null,
      "metadata": {},
      "outputs": [],
      "source": [
        "# Import necessary libraries\n",
        "import sys\n",
        "import os\n",
        "sys.path.append('../src')\n",
        "\n",
        "import numpy as np\n",
        "import pandas as pd\n",
        "import matplotlib.pyplot as plt\n",
        "import seaborn as sns\n",
        "from datetime import datetime, timedelta\n",
        "\n",
        "# Import our custom modules\n",
        "from data_preparation import DataPreparator\n",
        "from utils import set_random_seed\n",
        "\n",
        "# Set random seed for reproducibility\n",
        "set_random_seed(42)\n",
        "\n",
        "# Set plotting style\n",
        "plt.style.use('seaborn-v0_8')\n",
        "sns.set_palette(\"husl\")\n",
        "plt.rcParams['figure.figsize'] = (12, 8)\n"
      ]
    },
    {
      "cell_type": "markdown",
      "metadata": {},
      "source": [
        "## 1. Load Real MMM Data\n",
        "\n",
        "We'll work with the actual 2-year weekly MMM dataset with the following characteristics:\n",
        "- **Mediation Assumption**: Google spend mediates the relationship between social channels and revenue\n",
        "- **Real Data**: Actual media spend, revenue, and business metrics\n",
        "- **Time Period**: 2 years of weekly data (2023-09-17 to 2025-09-07)\n",
        "- **Zero-spend Periods**: Real periods with no media spend\n",
        "- **Business Variables**: Price, promotions, followers, email/SMS\n"
      ]
    },
    {
      "cell_type": "code",
      "execution_count": null,
      "metadata": {},
      "outputs": [],
      "source": [
        "# Load the real MMM dataset\n",
        "data = pd.read_csv('../data/raw/Assessment 2 - MMM Weekly.csv')\n",
        "\n",
        "# Convert week column to datetime\n",
        "data['date'] = pd.to_datetime(data['week'])\n",
        "data = data.drop('week', axis=1)  # Remove the original week column\n",
        "\n",
        "# Rename columns to match our expected format\n",
        "data = data.rename(columns={\n",
        "    'emails_send': 'email_volume',\n",
        "    'sms_send': 'sms_volume',\n",
        "    'social_followers': 'followers'\n",
        "})\n",
        "\n",
        "print(f\"Loaded dataset shape: {data.shape}\")\n",
        "print(f\"Date range: {data['date'].min()} to {data['date'].max()}\")\n",
        "print(f\"Columns: {list(data.columns)}\")\n",
        "print(f\"Total weeks: {len(data)}\")\n"
      ]
    },
    {
      "cell_type": "code",
      "execution_count": null,
      "metadata": {},
      "outputs": [],
      "source": [
        "# Display first few rows\n",
        "print(\"First 10 rows of the dataset:\")\n",
        "data.head(10)\n"
      ]
    },
    {
      "cell_type": "code",
      "execution_count": null,
      "metadata": {},
      "outputs": [],
      "source": [
        "# Basic statistics\n",
        "print(\"Dataset Statistics:\")\n",
        "print(\"=\" * 50)\n",
        "data.describe()\n"
      ]
    },
    {
      "cell_type": "markdown",
      "metadata": {},
      "source": [
        "## 2. Data Quality Assessment\n",
        "\n",
        "Let's examine the data quality and identify any issues:\n"
      ]
    },
    {
      "cell_type": "code",
      "execution_count": null,
      "metadata": {},
      "outputs": [],
      "source": [
        "# Check for missing values\n",
        "missing_data = data.isnull().sum()\n",
        "print(\"Missing values by column:\")\n",
        "print(missing_data[missing_data > 0])\n",
        "\n",
        "if missing_data.sum() == 0:\n",
        "    print(\"\\n✅ No missing values found!\")\n",
        "else:\n",
        "    print(f\"\\n⚠️ Total missing values: {missing_data.sum()}\")\n"
      ]
    },
    {
      "cell_type": "code",
      "execution_count": null,
      "metadata": {},
      "outputs": [],
      "source": [
        "# Check for zero-spend periods\n",
        "media_cols = [col for col in data.columns if 'spend' in col.lower()]\n",
        "print(\"Zero-spend periods by channel:\")\n",
        "for col in media_cols:\n",
        "    zero_count = (data[col] == 0).sum()\n",
        "    zero_pct = (zero_count / len(data)) * 100\n",
        "    print(f\"{col}: {zero_count} periods ({zero_pct:.1f}%)\")\n"
      ]
    },
    {
      "cell_type": "markdown",
      "metadata": {},
      "source": [
        "## 3. Time Series Analysis\n",
        "\n",
        "Let's examine the time series characteristics of our key variables:\n"
      ]
    },
    {
      "cell_type": "code",
      "execution_count": null,
      "metadata": {},
      "outputs": [],
      "source": [
        "# Plot time series of key variables\n",
        "fig, axes = plt.subplots(3, 2, figsize=(15, 12))\n",
        "axes = axes.ravel()\n",
        "\n",
        "# Revenue\n",
        "axes[0].plot(data['date'], data['revenue'], color='blue', linewidth=2)\n",
        "axes[0].set_title('Revenue Over Time')\n",
        "axes[0].set_ylabel('Revenue ($)')\n",
        "axes[0].tick_params(axis='x', rotation=45)\n",
        "\n",
        "# Google Spend\n",
        "axes[1].plot(data['date'], data['google_spend'], color='red', linewidth=2)\n",
        "axes[1].set_title('Google Spend Over Time')\n",
        "axes[1].set_ylabel('Google Spend ($)')\n",
        "axes[1].tick_params(axis='x', rotation=45)\n",
        "\n",
        "# Social Media Spend\n",
        "axes[2].plot(data['date'], data['facebook_spend'], label='Facebook', alpha=0.8)\n",
        "axes[2].plot(data['date'], data['tiktok_spend'], label='TikTok', alpha=0.8)\n",
        "axes[2].plot(data['date'], data['instagram_spend'], label='Instagram', alpha=0.8)\n",
        "axes[2].plot(data['date'], data['snapchat_spend'], label='Snapchat', alpha=0.8)\n",
        "axes[2].set_title('Social Media Spend Over Time')\n",
        "axes[2].set_ylabel('Spend ($)')\n",
        "axes[2].legend()\n",
        "axes[2].tick_params(axis='x', rotation=45)\n",
        "\n",
        "# Average Price\n",
        "axes[3].plot(data['date'], data['average_price'], color='green', linewidth=2)\n",
        "axes[3].set_title('Average Price Over Time')\n",
        "axes[3].set_ylabel('Price ($)')\n",
        "axes[3].tick_params(axis='x', rotation=45)\n",
        "\n",
        "# Promotions\n",
        "axes[4].plot(data['date'], data['promotions'], color='orange', linewidth=2)\n",
        "axes[4].set_title('Promotions Over Time')\n",
        "axes[4].set_ylabel('Promotion (0/1)')\n",
        "axes[4].tick_params(axis='x', rotation=45)\n",
        "\n",
        "# Followers\n",
        "axes[5].plot(data['date'], data['followers'], color='purple', linewidth=2)\n",
        "axes[5].set_title('Followers Over Time')\n",
        "axes[5].set_ylabel('Followers')\n",
        "axes[5].tick_params(axis='x', rotation=45)\n",
        "\n",
        "plt.tight_layout()\n",
        "plt.show()\n"
      ]
    },
    {
      "cell_type": "markdown",
      "metadata": {},
      "source": [
        "## 4. Correlation Analysis\n",
        "\n",
        "Let's examine the relationships between variables:\n"
      ]
    },
    {
      "cell_type": "code",
      "execution_count": null,
      "metadata": {},
      "outputs": [],
      "source": [
        "# Calculate correlation matrix\n",
        "correlation_matrix = data.select_dtypes(include=[np.number]).corr()\n",
        "\n",
        "# Create correlation heatmap\n",
        "plt.figure(figsize=(12, 10))\n",
        "mask = np.triu(np.ones_like(correlation_matrix, dtype=bool))\n",
        "sns.heatmap(correlation_matrix, mask=mask, annot=True, cmap='coolwarm', center=0,\n",
        "            square=True, linewidths=0.5, cbar_kws={\"shrink\": 0.8})\n",
        "plt.title('Correlation Matrix of MMM Variables')\n",
        "plt.tight_layout()\n",
        "plt.show()\n"
      ]
    },
    {
      "cell_type": "code",
      "execution_count": null,
      "metadata": {},
      "outputs": [],
      "source": [
        "# Focus on revenue correlations\n",
        "revenue_correlations = correlation_matrix['revenue'].sort_values(ascending=False)\n",
        "print(\"Correlations with Revenue:\")\n",
        "print(revenue_correlations)\n"
      ]
    },
    {
      "cell_type": "markdown",
      "metadata": {},
      "source": [
        "## 5. Mediation Analysis Preview\n",
        "\n",
        "Let's examine the mediation assumption - how social channels influence Google spend:\n"
      ]
    },
    {
      "cell_type": "code",
      "execution_count": null,
      "metadata": {},
      "outputs": [],
      "source": [
        "# Scatter plots showing social channels vs Google spend\n",
        "fig, axes = plt.subplots(2, 2, figsize=(15, 10))\n",
        "\n",
        "social_channels = ['facebook_spend', 'tiktok_spend', 'instagram_spend', 'snapchat_spend']\n",
        "colors = ['blue', 'red', 'green', 'orange']\n",
        "\n",
        "for i, (channel, color) in enumerate(zip(social_channels, colors)):\n",
        "    row = i // 2\n",
        "    col = i % 2\n",
        "    \n",
        "    axes[row, col].scatter(data[channel], data['google_spend'], alpha=0.6, color=color)\n",
        "    axes[row, col].set_xlabel(f'{channel.replace(\"_\", \" \").title()}')\n",
        "    axes[row, col].set_ylabel('Google Spend')\n",
        "    \n",
        "    # Add trend line\n",
        "    z = np.polyfit(data[channel], data['google_spend'], 1)\n",
        "    p = np.poly1d(z)\n",
        "    axes[row, col].plot(data[channel], p(data[channel]), \"r--\", alpha=0.8)\n",
        "    \n",
        "    # Calculate correlation\n",
        "    corr = data[channel].corr(data['google_spend'])\n",
        "    axes[row, col].set_title(f'{channel.replace(\"_\", \" \").title()} vs Google\\\\nCorrelation: {corr:.3f}')\n",
        "\n",
        "plt.tight_layout()\n",
        "plt.show()\n"
      ]
    },
    {
      "cell_type": "code",
      "execution_count": null,
      "metadata": {},
      "outputs": [],
      "source": [
        "# Calculate mediation strength\n",
        "print(\"Mediation Analysis - Social Channels to Google Spend:\")\n",
        "print(\"=\" * 50)\n",
        "\n",
        "for channel in social_channels:\n",
        "    # Simple correlation as proxy for mediation strength\n",
        "    corr = data[channel].corr(data['google_spend'])\n",
        "    print(f\"{channel.replace('_', ' ').title()}: {corr:.3f}\")\n",
        "\n",
        "print(\"\\nGoogle Spend to Revenue:\")\n",
        "google_revenue_corr = data['google_spend'].corr(data['revenue'])\n",
        "print(f\"Google Spend: {google_revenue_corr:.3f}\")\n"
      ]
    },
    {
      "cell_type": "markdown",
      "metadata": {},
      "source": [
        "## 6. Save Data\n",
        "\n",
        "Let's save the processed data for use in subsequent notebooks:\n"
      ]
    },
    {
      "cell_type": "code",
      "execution_count": null,
      "metadata": {},
      "outputs": [],
      "source": [
        "# Save the processed data\n",
        "data.to_csv('../data/raw/mmm_data.csv', index=False)\n",
        "print(\"✅ Data saved to ../data/raw/mmm_data.csv\")\n",
        "\n",
        "# Display summary statistics\n",
        "print(\"\\n📊 Data Summary:\")\n",
        "print(f\"- Total weeks: {len(data)}\")\n",
        "print(f\"- Date range: {data['date'].min().strftime('%Y-%m-%d')} to {data['date'].max().strftime('%Y-%m-%d')}\")\n",
        "print(f\"- Average weekly revenue: ${data['revenue'].mean():,.0f}\")\n",
        "print(f\"- Total media spend: ${data[media_cols].sum().sum():,.0f}\")\n",
        "print(f\"- Average price: ${data['average_price'].mean():.2f}\")\n",
        "print(f\"- Promotion periods: {data['promotions'].sum()} weeks ({data['promotions'].mean()*100:.1f}%)\")\n",
        "print(f\"- Total followers: {data['followers'].max():,.0f}\")\n",
        "print(f\"- Email volume: {data['email_volume'].mean():,.0f} per week\")\n",
        "print(f\"- SMS volume: {data['sms_volume'].mean():,.0f} per week\")\n"
      ]
    }
  ],
  "metadata": {
    "language_info": {
      "name": "python"
    }
  },
  "nbformat": 4,
  "nbformat_minor": 2
}
